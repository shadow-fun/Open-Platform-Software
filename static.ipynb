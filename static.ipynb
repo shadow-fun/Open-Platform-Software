{
  "nbformat": 4,
  "nbformat_minor": 0,
  "metadata": {
    "colab": {
      "provenance": [],
      "authorship_tag": "ABX9TyN9yU14t1eZLWrCv3xakl/Q",
      "include_colab_link": true
    },
    "kernelspec": {
      "name": "python3",
      "display_name": "Python 3"
    },
    "language_info": {
      "name": "python"
    }
  },
  "cells": [
    {
      "cell_type": "markdown",
      "metadata": {
        "id": "view-in-github",
        "colab_type": "text"
      },
      "source": [
        "<a href=\"https://colab.research.google.com/github/shadow-fun/Open-Platform-Software/blob/main/static.ipynb\" target=\"_parent\"><img src=\"https://colab.research.google.com/assets/colab-badge.svg\" alt=\"Open In Colab\"/></a>"
      ]
    },
    {
      "cell_type": "code",
      "execution_count": null,
      "metadata": {
        "colab": {
          "base_uri": "https://localhost:8080/"
        },
        "id": "YxibD-2EZLfR",
        "outputId": "53ab763c-eeba-49a6-893e-4b29daa87c0d"
      },
      "outputs": [
        {
          "output_type": "stream",
          "name": "stdout",
          "text": [
            "✅ 爬蟲完成，資料已儲存！\n"
          ]
        }
      ],
      "source": [
        "import requests\n",
        "from bs4 import BeautifulSoup\n",
        "import pandas as pd\n",
        "import json\n",
        "\n",
        "# 目標網址\n",
        "URL = \"https://www.books.com.tw/web/sys_saletopb/books\"\n",
        "\n",
        "# 設定 Headers 來偽裝成正常用戶\n",
        "HEADERS = {\n",
        "    \"User-Agent\": \"Mozilla/5.0 (Windows NT 10.0; Win64; x64) AppleWebKit/537.36 (KHTML, like Gecko) Chrome/110.0.0.0 Safari/537.36\"\n",
        "}\n",
        "\n",
        "# 發送 GET 請求\n",
        "response = requests.get(URL, headers=HEADERS)\n",
        "\n",
        "# 確保請求成功\n",
        "if response.status_code == 200:\n",
        "    soup = BeautifulSoup(response.text, \"html.parser\")\n",
        "\n",
        "    # 找出所有書籍資訊區塊\n",
        "    books = soup.find_all(\"li\", class_=\"item\")  # 根據 class 找書本區塊\n",
        "\n",
        "    book_list = []\n",
        "\n",
        "    for book in books:\n",
        "        # 書名\n",
        "        title_tag = book.find(\"h4\")\n",
        "        title = title_tag.text.strip() if title_tag else \"N/A\"\n",
        "\n",
        "        # 作者\n",
        "        author_tag = book.find(\"ul\", class_=\"msg\")\n",
        "        author = author_tag.text.strip() if author_tag else \"N/A\"\n",
        "\n",
        "        # 價格\n",
        "        price_tag = book.find(\"strong\")\n",
        "        price = price_tag.text.strip() if price_tag else \"N/A\"\n",
        "\n",
        "        book_list.append({\"title\": title, \"author\": author, \"price\": price})\n",
        "\n",
        "    # 儲存成 CSV\n",
        "    df = pd.DataFrame(book_list)\n",
        "    df.to_csv(\"static.csv\", index=False, encoding=\"utf-8-sig\")\n",
        "\n",
        "    # 儲存成 JSON\n",
        "    with open(\"static.json\", \"w\", encoding=\"utf-8\") as f:\n",
        "        json.dump(book_list, f, ensure_ascii=False, indent=4)\n",
        "\n",
        "    print(\"✅ 爬蟲完成，資料已儲存！\")\n",
        "else:\n",
        "    print(\"❌ 無法取得網頁，請檢查 URL 或網頁是否有防爬機制\")\n"
      ]
    },
    {
      "cell_type": "code",
      "source": [
        "import requests\n",
        "import pandas as pd\n",
        "\n",
        "# Google Books API 端點\n",
        "API_URL = \"https://www.googleapis.com/books/v1/volumes\"\n",
        "\n",
        "# 查詢參數\n",
        "params = {\n",
        "    \"q\": \"Python\",  # 搜尋關鍵字\n",
        "    \"maxResults\": 10,  # 取得 10 本書\n",
        "    \"printType\": \"books\",\n",
        "    \"langRestrict\": \"zh\"  # 限制為中文書籍\n",
        "}\n",
        "\n",
        "# 發送 GET 請求\n",
        "response = requests.get(API_URL, params=params)\n",
        "\n",
        "# 確保請求成功\n",
        "if response.status_code == 200:\n",
        "    data = response.json()\n",
        "    books = data.get(\"items\", [])\n",
        "\n",
        "    # 解析資料\n",
        "    book_list = []\n",
        "    for book in books:\n",
        "        info = book[\"volumeInfo\"]\n",
        "        title = info.get(\"title\", \"無標題\")\n",
        "        authors = \", \".join(info.get(\"authors\", [\"未知作者\"]))\n",
        "        publisher = info.get(\"publisher\", \"未知出版社\")\n",
        "        published_date = info.get(\"publishedDate\", \"未知日期\")\n",
        "        page_count = info.get(\"pageCount\", \"未知頁數\")\n",
        "\n",
        "        book_list.append({\n",
        "            \"書名\": title,\n",
        "            \"作者\": authors,\n",
        "            \"出版社\": publisher,\n",
        "            \"出版日期\": published_date,\n",
        "            \"頁數\": page_count\n",
        "        })\n",
        "\n",
        "    # 儲存成 CSV\n",
        "    df = pd.DataFrame(book_list)\n",
        "    df.to_csv(\"api.csv\", index=False, encoding=\"utf-8-sig\")\n",
        "\n",
        "    print(\"✅ API 串接成功，結果已儲存至 api.csv\")\n",
        "else:\n",
        "    print(f\"❌ API 錯誤，狀態碼：{response.status_code}\")\n"
      ],
      "metadata": {
        "colab": {
          "base_uri": "https://localhost:8080/"
        },
        "id": "l54UfuJ1LRWD",
        "outputId": "cc4283c6-b484-4901-ee7c-2f829abd2882"
      },
      "execution_count": null,
      "outputs": [
        {
          "output_type": "stream",
          "name": "stdout",
          "text": [
            "✅ API 串接成功，結果已儲存至 api.csv\n"
          ]
        }
      ]
    },
    {
      "cell_type": "code",
      "source": [
        "from google.colab import drive\n",
        "drive.mount('/content/drive')\n"
      ],
      "metadata": {
        "colab": {
          "base_uri": "https://localhost:8080/"
        },
        "id": "qRa8DuicjqII",
        "outputId": "f9fbef7f-b834-4672-e611-587d3f3454a6"
      },
      "execution_count": null,
      "outputs": [
        {
          "output_type": "stream",
          "name": "stdout",
          "text": [
            "Mounted at /content/drive\n"
          ]
        }
      ]
    },
    {
      "cell_type": "code",
      "source": [
        "%cd /content/drive/My Drive/\n",
        "!git clone https://github.com/你的GitHub帳號/你的Repository.git\n",
        "%cd 你的Repository\n"
      ],
      "metadata": {
        "colab": {
          "base_uri": "https://localhost:8080/"
        },
        "id": "jYwwtjUbjreb",
        "outputId": "645602ba-a225-4818-e800-b020acd5d2d6"
      },
      "execution_count": null,
      "outputs": [
        {
          "output_type": "stream",
          "name": "stdout",
          "text": [
            "/content/drive/My Drive\n",
            "Cloning into '你的Repository'...\n",
            "fatal: unable to access 'https://github.com/你的GitHub帳號/你的Repository.git/': The requested URL returned error: 400\n",
            "[Errno 2] No such file or directory: '你的Repository'\n",
            "/content/drive/My Drive\n"
          ]
        }
      ]
    }
  ]
}